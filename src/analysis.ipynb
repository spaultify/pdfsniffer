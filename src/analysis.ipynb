{
 "cells": [
  {
   "cell_type": "code",
   "execution_count": null,
   "id": "37e094f8",
   "metadata": {},
   "outputs": [],
   "source": [
    "import duckdb\n",
    "import pandas as pd\n",
    "from pathlib import Path\n",
    "\n",
    "PARENT_FOLDER = Path.cwd().parent\n",
    "DATA_FOLDER = PARENT_FOLDER / \"data\""
   ]
  },
  {
   "cell_type": "code",
   "execution_count": null,
   "id": "6e9f202a",
   "metadata": {},
   "outputs": [],
   "source": [
    "# Initialize duckdb\n",
    "conn = duckdb.connect(DATA_FOLDER / \"main.duckdb\")\n",
    "conn.sql(\"CALL start_ui();\")"
   ]
  },
  {
   "cell_type": "markdown",
   "id": "3601612c",
   "metadata": {},
   "source": [
    "## Ingestion"
   ]
  },
  {
   "cell_type": "code",
   "execution_count": null,
   "id": "e6c8772c",
   "metadata": {},
   "outputs": [],
   "source": [
    "q_ingestion = \"\"\"--sql\n",
    "    CREATE OR REPLACE TABLE bronze_scan_results AS\n",
    "        SELECT\n",
    "            md5(\"F  ile Path\") AS \"md5_hash_id\",\n",
    "            *\n",
    "        FROM read_csv($file_path)\n",
    "\"\"\"\n",
    "conn.sql(query=q_ingestion, params={\n",
    "    \"file_path\": str(DATA_FOLDER / \"scan_result.csv\")\n",
    "})\n",
    "\n",
    "conn.sql(\"\"\"--sql\n",
    "         SELECT *\n",
    "         FROM bronze_scan_results\n",
    "         \"\"\")"
   ]
  },
  {
   "cell_type": "code",
   "execution_count": null,
   "id": "f2bb9067",
   "metadata": {},
   "outputs": [],
   "source": [
    "\n",
    "\n",
    "def analyze():\n",
    "    conn.sql(\"\"\"--sql\n",
    "        SELECT\n",
    "                md5(\"File Path\") AS \"md5_hash_id\",\n",
    "                \"Issues JSON\"\n",
    "        FROM read_csv(?)\n",
    "        GROUP BY ALL\n",
    "        HAVING MAX(\"Issue Count\") = 5\n",
    "    \"\"\", params=[str(DATA_FOLDER / \"scan_result.csv\")]).show()\n",
    "\n",
    "\n",
    "if __name__ == \"__main__\":\n",
    "    analyze()"
   ]
  },
  {
   "cell_type": "code",
   "execution_count": null,
   "id": "f50c42bb",
   "metadata": {},
   "outputs": [],
   "source": []
  }
 ],
 "metadata": {
  "kernelspec": {
   "display_name": ".venv",
   "language": "python",
   "name": "python3"
  },
  "language_info": {
   "codemirror_mode": {
    "name": "ipython",
    "version": 3
   },
   "file_extension": ".py",
   "mimetype": "text/x-python",
   "name": "python",
   "nbconvert_exporter": "python",
   "pygments_lexer": "ipython3",
   "version": "3.13.2"
  }
 },
 "nbformat": 4,
 "nbformat_minor": 5
}
